{
 "cells": [
  {
   "cell_type": "markdown",
   "id": "09e9a536",
   "metadata": {},
   "source": [
    "## ADA final exam (Fall 2022)\n",
    "\n",
    "This exam consists of 3 tasks. Tasks 2 and 3 are independent of each other (although conceptually related).\n"
   ]
  },
  {
   "cell_type": "markdown",
   "id": "68507ec4",
   "metadata": {},
   "source": [
    "## Dataset\n",
    "\n",
    "For a Wikipedia editor to become an administrator, a so-called “request for adminship” ([RfA](https://en.wikipedia.org/wiki/Wikipedia:Requests_for_adminship)) must be submitted by either the candidate or another community member. Subsequently, any Wikipedia member may cast a supporting or opposing vote. Here we provide a simplified version of the Wikipedia RfA dataset, containing all votes from 2003 through 2012.\n",
    "\n",
    "###  Data format\n",
    "\n",
    "|        |   SRC |   TGT |   VOT |   RES |   YEA | DAT                 | TXT                                                                                                                                                                                               |\n",
    "|-------:|------:|------:|------:|------:|------:|:--------------------|:--------------------------------------------------------------------------------------------------------------------------------------------------------------------------------------------------|\n",
    "|  39054 |  3444 | 10170 |     1 |     1 |  2009 | 2009-07-01 17:50:00 | '''Support''' - Best of luck. &nbsp;                                                                                                                                                              |\n",
    "| 159680 |   722 |  9634 |    -1 |    -1 |  2006 | 2006-12-15 07:28:00 | '''Oppose''' Not even 2000 edits.                                                                                                                                                                 |\n",
    "| 173438 |  4194 |  5524 |     1 |     1 |  2005 | 2005-03-18 19:22:00 | Ohhh, you're Carrp!  In that case, '''Support'''.                                                                                                                                                 |\n",
    "|  60627 |  4855 |  9436 |     1 |     1 |  2008 | 2008-12-18 23:26:00 | '''Support''' via thoughtful answer to my question that demonstrates this editor has clue.                                                 |\n",
    "| 194809 |  7687 |   908 |     1 |     1 |  2004 | 2004-09-25 05:21:00 | Nicholas is very good in English. Also, he got '''exceptional''' patience to explain petty obvious facts in talk page to convince ignorants. Let the world be benefitted more out of his work. -- |\n",
    "\n",
    "\n",
    "- SRC: the user name of the source of the vote, i.e., of the user who cast the vote.\n",
    "- TGT: the user name of the target of the vote, i.e., of the user running for election.\n",
    "- VOT: the source's vote on the target (-1 = oppose; 1 = support).\n",
    "- RES: the outcome of the election (-1 = target was rejected as admin; 1 = target was accepted). **(We will not use this  column in this exam.)**\n",
    "- YEA: the year of the RfA.\n",
    "- DAT: the date and time of this vote. **(We will not use this column in this exam.)**\n",
    "- TXT: the comment written by the source. **(We will not use this column in this exam.)**\n",
    "\n",
    "---\n"
   ]
  },
  {
   "cell_type": "markdown",
   "id": "4a4a661c",
   "metadata": {},
   "source": [
    "## Structural balance theory\n",
    "\n",
    "**Structural balance theory** affirms that social networks tend to be organized so as to avoid conflictual situations, e.g., if a great friend of yours hates someone, you will likely not befriend that person.\n",
    "\n",
    "The theory can be operationalized by looking at _triangles_ in an undirected _signed graph_ capturing person-to-person relationships, where a _signed graph_ is a  graph in which each edge is associated with a positive or negative sign, and a _triangle_ is a set of three edges ($\\langle u,v \\rangle$, $\\langle v,w\\rangle$, $\\langle u,w\\rangle$) that fully connect three distinct nodes ($u, v, w$).\n",
    "\n",
    "\n",
    "\n",
    "_Triangles_ in an undirected signed graph can be in 4 _configurations_:\n",
    "all positive edges ($\\{+,+,+\\}$); \n",
    "all negative edges ($\\{-,-,-\\}$); \n",
    "two positive edges and one negative edge ($\\{+,+,-\\}$);\n",
    "one positive edge and two negative edges ($\\{+,-,-\\}$).\n",
    "\n",
    "Structural balance theory posits that social networks tend to favor triangle configurations with an even number of negative signs (i.e., $\\{+,+,+\\}$ and $\\{+,-,-\\}$), which can be understood as being “balanced” by avoiding conflictual situations. Intuitively, $\\{+,+,+\\}$ could be tagged as “The friend of my friend is my friend”, and $\\{+,-,-\\}$ as “The enemy of my enemy is my friend”, “The friend of my enemy is my enemy”, or “The enemy of my friend is my enemy”. On the contrary, triangle configurations with an odd number of negative signs (i.e., $\\{+,+,-\\}$ and $\\{-,-,-\\}$) are unstable (“unbalanced”) according to structural balance theory and will thus occur less frequently in social networks. For instance, me being friends with two mutual enemies ($\\{+,+,-\\}$) would lead to tension that could be resolved if the two enemies became friends or if I took sides and ended my friendship with one of the two. Similarly, two among three mutual enemies ($\\{-,-,-\\}$) would have the incentive to form an alliance to “gang up” against the third.\n",
    "\n",
    "Some social scientists have argued that three mutual enemies ($\\{-,-,-\\}$) is not necessarily a triangle configuration that social networks tend to avoid. This gives rise to **weak structural balance theory**, which only posits that social networks tend to avoid the “unbalanced” triangle configuration $\\{+,+,-\\}$.\n",
    "\n",
    "In a nutshell,\n",
    "- structural balance theory\n",
    "  - considers $\\{+,+,+\\}$, $\\{+,-,-\\}$ as balanced,\n",
    "  - and $\\{+,+,-\\}$, $\\{-,-,-\\}$ as unbalanced;\n",
    "- weak structural balance theory\n",
    "  - considers $\\{+,+,+\\}$, $\\{+,-,-\\}$, $\\{-,-,-\\}$ as balanced,\n",
    "  - and $\\{+,+,-\\}$ as unbalanced.\n",
    "\n"
   ]
  },
  {
   "cell_type": "code",
   "outputs": [],
   "source": [
    "import pandas as pd\n",
    "import numpy as np\n",
    "import matplotlib.pyplot as plt\n",
    "import seaborn as sns"
   ],
   "metadata": {
    "collapsed": false,
    "ExecuteTime": {
     "end_time": "2024-01-12T13:19:45.098587636Z",
     "start_time": "2024-01-12T13:19:44.624121332Z"
    }
   },
   "id": "7ab9e5a2404c9660",
   "execution_count": 22
  },
  {
   "cell_type": "markdown",
   "id": "d5f337c9",
   "metadata": {},
   "source": [
    "### Task 1: Preliminaries\n",
    "\n",
    "As a good data scientist, you first load the data and explore it.\n",
    "\n",
    "**1.1**\n",
    "Load the csv file `wiki-RfA.csv.gz` in a pandas dataframe. Calculate the number of distinct RfAs and the average number of votes per RfA.\n",
    "- **Hint:** Throughout this question, assume that each RfA is uniquely determined by the column `TGT` and each vote is uniquely determined by the combination of `SRC` and `TGT`."
   ]
  },
  {
   "cell_type": "code",
   "execution_count": 40,
   "id": "5cd5564d0e532274",
   "metadata": {
    "collapsed": false,
    "ExecuteTime": {
     "end_time": "2024-01-12T13:28:20.369093594Z",
     "start_time": "2024-01-12T13:28:20.033836307Z"
    }
   },
   "outputs": [
    {
     "data": {
      "text/plain": "         SRC   TGT  VOT   YEA\n0       5943  9966   -1  2012\n1       9153  9966   -1  2012\n2       4189  9966   -1  2012\n3       3750  9966   -1  2012\n4       4225  9966   -1  2012\n...      ...   ...  ...   ...\n166998  3867  2762    1  2003\n166999  8091  8486    1  2003\n167000  1581  8767    1  2003\n167001  1011  8056    1  2003\n167002  1011  7238    1  2003\n\n[167003 rows x 4 columns]",
      "text/html": "<div>\n<style scoped>\n    .dataframe tbody tr th:only-of-type {\n        vertical-align: middle;\n    }\n\n    .dataframe tbody tr th {\n        vertical-align: top;\n    }\n\n    .dataframe thead th {\n        text-align: right;\n    }\n</style>\n<table border=\"1\" class=\"dataframe\">\n  <thead>\n    <tr style=\"text-align: right;\">\n      <th></th>\n      <th>SRC</th>\n      <th>TGT</th>\n      <th>VOT</th>\n      <th>YEA</th>\n    </tr>\n  </thead>\n  <tbody>\n    <tr>\n      <th>0</th>\n      <td>5943</td>\n      <td>9966</td>\n      <td>-1</td>\n      <td>2012</td>\n    </tr>\n    <tr>\n      <th>1</th>\n      <td>9153</td>\n      <td>9966</td>\n      <td>-1</td>\n      <td>2012</td>\n    </tr>\n    <tr>\n      <th>2</th>\n      <td>4189</td>\n      <td>9966</td>\n      <td>-1</td>\n      <td>2012</td>\n    </tr>\n    <tr>\n      <th>3</th>\n      <td>3750</td>\n      <td>9966</td>\n      <td>-1</td>\n      <td>2012</td>\n    </tr>\n    <tr>\n      <th>4</th>\n      <td>4225</td>\n      <td>9966</td>\n      <td>-1</td>\n      <td>2012</td>\n    </tr>\n    <tr>\n      <th>...</th>\n      <td>...</td>\n      <td>...</td>\n      <td>...</td>\n      <td>...</td>\n    </tr>\n    <tr>\n      <th>166998</th>\n      <td>3867</td>\n      <td>2762</td>\n      <td>1</td>\n      <td>2003</td>\n    </tr>\n    <tr>\n      <th>166999</th>\n      <td>8091</td>\n      <td>8486</td>\n      <td>1</td>\n      <td>2003</td>\n    </tr>\n    <tr>\n      <th>167000</th>\n      <td>1581</td>\n      <td>8767</td>\n      <td>1</td>\n      <td>2003</td>\n    </tr>\n    <tr>\n      <th>167001</th>\n      <td>1011</td>\n      <td>8056</td>\n      <td>1</td>\n      <td>2003</td>\n    </tr>\n    <tr>\n      <th>167002</th>\n      <td>1011</td>\n      <td>7238</td>\n      <td>1</td>\n      <td>2003</td>\n    </tr>\n  </tbody>\n</table>\n<p>167003 rows × 4 columns</p>\n</div>"
     },
     "execution_count": 40,
     "metadata": {},
     "output_type": "execute_result"
    }
   ],
   "source": [
    "# load and print head of df\n",
    "wiki_RfA = pd.read_csv('wiki-RfA.csv.gz', compression='gzip', usecols=['SRC', 'TGT', 'VOT', 'YEA'])\n",
    "wiki_RfA"
   ]
  },
  {
   "cell_type": "code",
   "outputs": [
    {
     "name": "stdout",
     "output_type": "stream",
     "text": [
      "There is 3439 different RfAs in the dataset\n",
      "The average number of vote per RfAs is:  48.562\n"
     ]
    }
   ],
   "source": [
    "\n",
    "# Calculate the number of RfAs\n",
    "nb_RfAs = wiki_RfA['TGT'].nunique()\n",
    "wiki_RfA['SRC_TGT'] = wiki_RfA.apply(lambda row: f'{row[\"SRC\"]}-{row[\"TGT\"]}', axis=1)\n",
    "\n",
    "# Only keep one combination of SRC and VOT as each vote is uniquely determined by this combination\n",
    "wiki_RfA_no_duplicate = wiki_RfA.drop_duplicates('SRC_TGT')\n",
    "average_nb_vote_per_RfAs = wiki_RfA.groupby('TGT')['TGT'].count().mean()\n",
    "\n",
    "print(f\"There is {nb_RfAs} different RfAs in the dataset\")\n",
    "print(f\"The average number of vote per RfAs is: {average_nb_vote_per_RfAs: .3f}\")"
   ],
   "metadata": {
    "ExecuteTime": {
     "end_time": "2024-01-12T14:55:13.853954484Z",
     "start_time": "2024-01-12T14:55:12.654451729Z"
    }
   },
   "id": "ff2e92a5",
   "execution_count": 166
  },
  {
   "cell_type": "markdown",
   "id": "813b5a32",
   "metadata": {},
   "source": [
    "**1.2** \n",
    "In a single figure with three subfigures (one per item), show the following time series:\n",
    "- the number of RfAs per year;\n",
    "- the overall fraction of positive votes per year; and \n",
    "- the average number of votes per RfA per year.\n",
    "\n",
    "For each of the above three quantities, print the value for the year 2008."
   ]
  },
  {
   "cell_type": "code",
   "execution_count": 199,
   "id": "b1732d7e",
   "metadata": {
    "ExecuteTime": {
     "end_time": "2024-01-12T15:05:03.706213164Z",
     "start_time": "2024-01-12T15:05:02.974075572Z"
    }
   },
   "outputs": [
    {
     "data": {
      "text/plain": "<Figure size 1400x300 with 3 Axes>",
      "image/png": "[encoded data removed]"
     },
     "metadata": {},
     "output_type": "display_data"
    }
   ],
   "source": [
    "fig, axs = plt.subplots(1, 3, figsize=(14, 3), layout=\"constrained\")\n",
    "\n",
    "\n",
    "RfA_per_year = wiki_RfA_no_duplicate.groupby('YEA')[['TGT']].agg(lambda e: e.nunique())\n",
    "sns.lineplot(data=RfA_per_year, x='YEA', y='TGT', ax=axs[0])\n",
    "axs[0].set_title('Number of RfAs per year')\n",
    "axs[0].set_xlabel('Year')\n",
    "axs[0].set_ylabel('Number RfAs')\n",
    "\n",
    "sns.lineplot(data=wiki_RfA_no_duplicate, x='YEA', y='VOT', estimator=lambda entry: len(entry[entry == 1])/len(entry), errorbar=None, ax=axs[1])\n",
    "axs[1].set_title('Fraction of positive vote per year')\n",
    "axs[1].set_xlabel('Year')\n",
    "axs[1].set_ylabel('Fraction of vote')\n",
    "\n",
    "avg_vote_per_RfA_per_year = wiki_RfA_no_duplicate.groupby(['TGT', 'YEA']).count().reset_index().groupby('YEA')[['TGT', 'VOT']].mean()\n",
    "sns.lineplot(data=avg_vote_per_RfA_per_year, x='YEA', y='VOT')\n",
    "axs[1].set_title('Average vote per RfAs per Year')\n",
    "axs[1].set_xlabel('Year')\n",
    "axs[1].set_ylabel('Average vote per RfAs')\n",
    "\n",
    "plt.show()"
   ]
  },
  {
   "cell_type": "code",
   "outputs": [
    {
     "data": {
      "text/plain": "(520, 0.7612268475384787, 51.60192307692308)"
     },
     "execution_count": 205,
     "metadata": {},
     "output_type": "execute_result"
    }
   ],
   "source": [
    "nb_RfAs_2008 = RfA_per_year.query('YEA == 2008').TGT.item()\n",
    "average_vote_per_RfAs_2008 = len(wiki_RfA_no_duplicate[['YEA', 'VOT']].query('YEA == 2008 and VOT == 1'))/len(wiki_RfA_no_duplicate[['YEA', 'VOT']].query('YEA == 2008'))\n",
    "\n",
    "nb_RfAs_2008, average_vote_per_RfAs_2008, avg_vote_per_RfA_per_year.query('YEA == 2008').VOT.item()"
   ],
   "metadata": {
    "collapsed": false,
    "ExecuteTime": {
     "end_time": "2024-01-12T15:07:04.324868896Z",
     "start_time": "2024-01-12T15:07:04.278622724Z"
    }
   },
   "id": "1336ebf348d754b8",
   "execution_count": 205
  },
  {
   "cell_type": "markdown",
   "id": "366d38d9",
   "metadata": {},
   "source": [
    "**1.3** \n",
    "**/Discuss:/** Describe the temporal patterns observed in the plots you did in **T1.2**."
   ]
  },
  {
   "cell_type": "markdown",
   "id": "e77900f8",
   "metadata": {},
   "source": [
    "**A1.3** \n",
    "*YOUR ANSWER HERE*"
   ]
  },
  {
   "cell_type": "markdown",
   "id": "81126c89",
   "metadata": {},
   "source": [
    "**1.4** \n",
    "Create an undirected graph ([`nx.Graph`](https://networkx.org/documentation/stable/reference/classes/graph.html)) where every node corresponds to a Wikipedia user (source or target of an RfA) and where there exists an edge between two users if at least one of them has voted on the other. Each edge should have attributes corresponding to columns of the dataframe, namely:\n",
    "- `VOT`, which equals `1` if the vote was positive, and `-1` otherwise.\n",
    "- `YEA`, an integer that represents the year of the RfA.\n",
    "\n",
    "**The code to load the graph has been provided to you!** After running it, print the number of nodes and edges in your graph.\n",
    "\n",
    "---\n",
    "\n",
    "**Observation:** Note that we have at most one edge per pair of nodes in the graph, even though two votes may be associated with the pair  — e.g., if A voted in B's RfA in time $t_1$ and B voted in A's RfA in time $t_2$ ($t_1 < t_2$). In these cases, the code provided associates the metadata of the oldest vote ($t_1$ in the example) to the edge between A and B."
   ]
  },
  {
   "cell_type": "code",
   "execution_count": 107,
   "id": "e57d4776",
   "metadata": {
    "ExecuteTime": {
     "end_time": "2024-01-12T14:13:40.461897464Z",
     "start_time": "2024-01-12T14:13:39.459900801Z"
    }
   },
   "outputs": [],
   "source": [
    "# Provided code! Do not change!\n",
    "import networkx as nx\n",
    "import pandas as pd\n",
    "G = nx.from_pandas_edgelist(pd.read_csv(\"./wiki-RfA.csv.gz\"), \n",
    "                            'SRC', 'TGT', ['VOT', 'RES', 'YEA', 'DAT'], create_using=nx.Graph)"
   ]
  },
  {
   "cell_type": "code",
   "execution_count": 109,
   "id": "f21ec7a6",
   "metadata": {
    "ExecuteTime": {
     "end_time": "2024-01-12T14:17:16.065464396Z",
     "start_time": "2024-01-12T14:17:16.002254235Z"
    }
   },
   "outputs": [
    {
     "name": "stdout",
     "output_type": "stream",
     "text": [
      "Graph with 10831 nodes and 161147 edges\n"
     ]
    }
   ],
   "source": [
    "# 1.4\n",
    "print(G)"
   ]
  },
  {
   "cell_type": "markdown",
   "id": "37cbd1b8",
   "metadata": {},
   "source": [
    "**1.5** \n",
    "Plot the **complementary** cumulative distribution of the degree centrality of the undirected graph. Use a logarithmic (base 10) x-axis and a linear y-axis."
   ]
  },
  {
   "cell_type": "code",
   "execution_count": 258,
   "id": "c1edfd6a",
   "metadata": {
    "ExecuteTime": {
     "end_time": "2024-01-12T16:25:38.447548917Z",
     "start_time": "2024-01-12T16:25:38.218532094Z"
    }
   },
   "outputs": [
    {
     "data": {
      "text/plain": "<Figure size 640x480 with 1 Axes>",
      "image/png": "[encoded data removed]"
     },
     "metadata": {},
     "output_type": "display_data"
    }
   ],
   "source": [
    "# 1.5\n",
    "degrees = [G.degree(n) for n in G.nodes()]\n",
    "degree_centrality = dict(nx.degree(G))\n",
    "n_ids = list(degree_centrality.keys())\n",
    "degree_cent = list(degree_centrality.values())\n",
    "degree_centrality_df = pd.DataFrame({'n_ids': n_ids, 'degree_cent': degree_cent})\n",
    "sns.ecdfplot(data=degree_centrality_df, x='degree_cent', log_scale=(True, False), complementary=True)\n",
    "\n",
    "plt.show()"
   ]
  },
  {
   "cell_type": "markdown",
   "id": "935be3bf",
   "metadata": {},
   "source": [
    "\n",
    "**1.6**\n",
    "**/Discuss:/** Why is the following statement false? Justify your answer. **\"From the graph obtained in task 1.5, one can conclude that around 40% of the users voted at least 11 times.\"**\n"
   ]
  },
  {
   "cell_type": "markdown",
   "id": "3316f395",
   "metadata": {},
   "source": [
    "**A1.6**\n",
    "*YOUR ANSWER HERE*"
   ]
  },
  {
   "cell_type": "markdown",
   "id": "9d1d5f4a",
   "metadata": {},
   "source": [
    "**1.7**\n",
    "What fraction of users voted at least 11 times? Use the data to measure the fraction."
   ]
  },
  {
   "cell_type": "code",
   "execution_count": 255,
   "id": "a167a11b",
   "metadata": {
    "ExecuteTime": {
     "end_time": "2024-01-12T15:43:58.383809283Z",
     "start_time": "2024-01-12T15:43:58.337391142Z"
    }
   },
   "outputs": [
    {
     "data": {
      "text/plain": "0.24863816822084756"
     },
     "execution_count": 255,
     "metadata": {},
     "output_type": "execute_result"
    }
   ],
   "source": [
    "# 1.7\n",
    "count_vote_src = wiki_RfA_no_duplicate.groupby('SRC').VOT.count()\n",
    "len(count_vote_src[count_vote_src >= 11])/pd.concat([wiki_RfA_no_duplicate['SRC'], wiki_RfA_no_duplicate['TGT']]).nunique()"
   ]
  },
  {
   "cell_type": "code",
   "outputs": [
    {
     "data": {
      "text/plain": "10831"
     },
     "execution_count": 253,
     "metadata": {},
     "output_type": "execute_result"
    }
   ],
   "source": [
    "pd.concat([wiki_RfA_no_duplicate['SRC'], wiki_RfA_no_duplicate['TGT']]).nunique()"
   ],
   "metadata": {
    "collapsed": false,
    "ExecuteTime": {
     "end_time": "2024-01-12T15:42:34.207321557Z",
     "start_time": "2024-01-12T15:42:34.156946049Z"
    }
   },
   "id": "49cb3f39c8fd97fa",
   "execution_count": 253
  },
  {
   "cell_type": "markdown",
   "id": "35b05b29",
   "metadata": {},
   "source": [
    "### Task 2: Triangles\n",
    "\n",
    "Next, you set out to investigate the social balance theory by looking at the RfA graph.\n",
    "\n",
    "**2.1**\n",
    "Considering _only_ the RfAs of 2004 (i.e., where `YEA == 2004`), generate all triangles in the undirected graph.\n",
    "Print the number of triangles found.\n",
    "- **Hint:** Note that you can generate a graph with only a subset of nodes and edges via ` G.edge_subgraph`.\n",
    "-  **Hint:** The function `nx.enumerate_all_cliques` generates all cliques in an undirected graph. First, all cliques of size 1 are generated, then all cliques of size 2, etc. Triangles are cliques of size 3.\n"
   ]
  },
  {
   "cell_type": "code",
   "execution_count": 290,
   "id": "b39a403e",
   "metadata": {
    "ExecuteTime": {
     "end_time": "2024-01-12T17:01:41.234409392Z",
     "start_time": "2024-01-12T17:01:41.131236720Z"
    }
   },
   "outputs": [
    {
     "name": "stdout",
     "output_type": "stream",
     "text": [
      "The number of triangles found is: 8448\n"
     ]
    }
   ],
   "source": [
    "# 2.1\n",
    "wiki_RfA_2004 = wiki_RfA_no_duplicate.query('YEA == 2004').copy()\n",
    "\n",
    "G_2004 = nx.from_pandas_edgelist(wiki_RfA_2004,\n",
    "                            'SRC', 'TGT', ['VOT', 'YEA'], create_using=nx.Graph)\n",
    "\n",
    "G_2004_triangle = nx.enumerate_all_cliques(G_2004)\n",
    "triangles = list(filter(lambda elm: len(elm) == 3, G_2004_triangle)) \n",
    "print(f\"The number of triangles found is: {len(triangles)}\")"
   ]
  },
  {
   "cell_type": "markdown",
   "id": "9b8ac389",
   "metadata": {},
   "source": [
    "**2.2 ** **/True or false:/** Is the following statement true or false? Justify your answer. **\"The node with the highest clustering coefficient in an undirected graph is the node that belongs to the largest number of triangles.\"**"
   ]
  },
  {
   "cell_type": "markdown",
   "id": "f961eef7",
   "metadata": {},
   "source": [
    "**A2.2**\n",
    "*YOUR ANSWER HERE*\n",
    "False the node with the highest clustering coefficient is the node for which the fraction of number of edge among friends and the number of potential edge among friends is the higest."
   ]
  },
  {
   "cell_type": "markdown",
   "id": "e2f5b22c",
   "metadata": {},
   "source": [
    "**2.3** Considering the set of triangles previously calculated, estimate the fraction of triangles of configurations\n",
    " $\\{+,+,+\\}$,  $\\{-,-,-\\}$,  $\\{+,+,-\\}$, and $\\{+,-,-\\}$. What fraction of triangles are \"balanced\" according to structural balance theory?"
   ]
  },
  {
   "cell_type": "code",
   "execution_count": 395,
   "id": "f858e94c",
   "metadata": {
    "ExecuteTime": {
     "end_time": "2024-01-12T18:14:30.571608754Z",
     "start_time": "2024-01-12T18:14:30.528904514Z"
    }
   },
   "outputs": [
    {
     "name": "stdout",
     "output_type": "stream",
     "text": [
      "0.7926136363636364\n",
      "0.13944128787878787\n",
      "0.06273674242424243\n",
      "0.005208333333333333\n"
     ]
    },
    {
     "data": {
      "text/plain": "0.8553503787878788"
     },
     "execution_count": 395,
     "metadata": {},
     "output_type": "execute_result"
    }
   ],
   "source": [
    "# 2.3\n",
    "from itertools import combinations\n",
    "\n",
    "\n",
    "\n",
    "triangle_edges = [list(combinations(triangle, 2)) for triangle in triangles]\n",
    "\n",
    "# Get edges of graph\n",
    "G_2004_edge = G_2004.edges\n",
    "\n",
    "# Compute the triangle configurations\n",
    "triangle_configurations = [ [G_2004_edge[edge]['VOT'] == 1 for edge in triangle_edge] for triangle_edge in triangle_edges ]\n",
    "\n",
    "triangle_configurations_sum = np.sum(triangle_configurations, axis=1)\n",
    "\n",
    "number_triangle_3 = (triangle_configurations_sum == 3).sum()\n",
    "number_triangle_2 = (triangle_configurations_sum == 2).sum()\n",
    "number_triangle_1 = (triangle_configurations_sum == 1).sum()\n",
    "number_triangle_0 = (triangle_configurations_sum == 0).sum()\n",
    "\n",
    "fraction_balanced = (number_triangle_1 + number_triangle_3)/len(triangle_configurations_sum)\n",
    "\n",
    "print(number_triangle_3/len(triangle_configurations_sum))\n",
    "print(number_triangle_2/len(triangle_configurations_sum))\n",
    "print(number_triangle_1/len(triangle_configurations_sum))\n",
    "print(number_triangle_0/len(triangle_configurations_sum))\n",
    "\n",
    "fraction_balanced"
   ]
  },
  {
   "cell_type": "markdown",
   "id": "97e6f9f0",
   "metadata": {},
   "source": [
    "**2.4** To observe how triangle configurations would be distributed under a random null model, do the following:\n",
    "- Create a new column `VOT_RND` in the dataframe, where RfA votes (i.e., edge signs in the graph) are shuffled, i.e., permuted randomly.  For shuffling, use `numpy.random`, without replacement and with the seed 32 (see code provided below).\n",
    "- Create a new edge attribute with the values of `VOT_RND` in the graph you created in task **1.4**. You can do this easily using the  [`set_edge_attributes`](https://networkx.org/documentation/stable/reference/generated/networkx.classes.function.set_edge_attributes.html) function.\n",
    "- Considering the shuffled edge signs,  compute the fraction of triangles in each configuration ($\\{+,+,+\\}$,  $\\{-,-,-\\}$,  $\\{+,+,-\\}$, $\\{+,-,-\\}$). Moreover, compute the fraction of triangles that are \"balanced\" according to structural balance theory. (Reminder: consider only the RfAs of 2004.)\n"
   ]
  },
  {
   "cell_type": "code",
   "execution_count": 403,
   "id": "8b4cba61",
   "metadata": {
    "ExecuteTime": {
     "end_time": "2024-01-12T18:19:08.334443846Z",
     "start_time": "2024-01-12T18:19:08.294086798Z"
    }
   },
   "outputs": [],
   "source": [
    "# 2.4\n",
    "import numpy as np\n",
    "np.random.seed(32)\n",
    "\n",
    "wiki_RfA_2004[\"VOT_RND\"] = np.random.choice(wiki_RfA_2004[\"VOT\"].values, size=len(wiki_RfA_2004), replace=False)\n",
    "\n",
    "nx.set_edge_attributes(G_2004, dict(zip(wiki_RfA_2004.apply(lambda row: (row['SRC'], row['TGT']), axis=1), wiki_RfA_2004['VOT_RND'])), name='VOT_RND')"
   ]
  },
  {
   "cell_type": "code",
   "outputs": [
    {
     "name": "stdout",
     "output_type": "stream",
     "text": [
      "0.6857244318181818\n",
      "0.2779356060606061\n",
      "0.03444602272727273\n",
      "0.001893939393939394\n"
     ]
    },
    {
     "data": {
      "text/plain": "0.7201704545454546"
     },
     "execution_count": 404,
     "metadata": {},
     "output_type": "execute_result"
    }
   ],
   "source": [
    "triangle_configurations_rnd = [ [G_2004_edge[edge]['VOT_RND'] == 1 for edge in triangle_edge] for triangle_edge in triangle_edges ]\n",
    "\n",
    "triangle_configurations_sum_rnd = np.sum(triangle_configurations_rnd, axis=1)\n",
    "\n",
    "number_triangle_3_rnd = (triangle_configurations_sum_rnd == 3).sum()\n",
    "number_triangle_2_rnd = (triangle_configurations_sum_rnd == 2).sum()\n",
    "number_triangle_1_rnd = (triangle_configurations_sum_rnd == 1).sum()\n",
    "number_triangle_0_rnd = (triangle_configurations_sum_rnd == 0).sum()\n",
    "\n",
    "fraction_balanced_rnd = (number_triangle_1_rnd + number_triangle_3_rnd)/len(triangle_configurations_sum_rnd)\n",
    "\n",
    "print(number_triangle_3_rnd/len(triangle_configurations_sum_rnd))\n",
    "print(number_triangle_2_rnd/len(triangle_configurations_sum_rnd))\n",
    "print(number_triangle_1_rnd/len(triangle_configurations_sum_rnd))\n",
    "print(number_triangle_0_rnd/len(triangle_configurations_sum_rnd))\n",
    "\n",
    "fraction_balanced_rnd"
   ],
   "metadata": {
    "collapsed": false,
    "ExecuteTime": {
     "end_time": "2024-01-12T18:19:09.464608500Z",
     "start_time": "2024-01-12T18:19:09.417786797Z"
    }
   },
   "id": "9f659df3ca776661",
   "execution_count": 404
  },
  {
   "cell_type": "markdown",
   "id": "f055a145",
   "metadata": {},
   "source": [
    "**2.5** **/Discuss:/** Do the results of tasks **2.3** and **2.4** suggest that structural balance theory is correct? What kind of subsequent analysis would make you trust that the results are not obtained simply by chance? (No need to actually perform that subsequent analysis here.) Justify your answer."
   ]
  },
  {
   "cell_type": "markdown",
   "id": "dcd070a6",
   "metadata": {},
   "source": [
    "**A2.5** *YOUR ANSWER HERE*"
   ]
  },
  {
   "cell_type": "markdown",
   "id": "d5252ffb",
   "metadata": {},
   "source": [
    "### Interlude: Additional data\n",
    "\n",
    "In the data provided in the file `wiki-RfA.csv.gz` (with which you’ve worked up to now), each column corresponds to a vote from a user $u$ to a user $v$ at a time $t$. \n",
    "\n",
    "In **Task 2**, we did not consider the temporal aspect of this network. For the next task, you are provided with a complimentary dataset (`data/wiki-RfA_extra.csv.gz`) containing, for each vote (uniquely determined by `SRC` and `TGT`), a variety of features. **Importantly, these features were calculated considering only data that was already available at the time when the respective vote was cast.** The features are described as follows.\n",
    "\n",
    "- `PP`, `NN`, `PN` — Each vote (signed edge) is part of zero or more triangles, and we computed the number of triangles in which the two remaining edges were both positive (`PP`), both negative (`NN`) and of different signs (i.e., one positive and one negative, `PN`). This considers only the votes the target (denoted by `TGT`) has received before the current vote. \n",
    "\n",
    "- `P`, `N` — The number of positive (`P`) and negative (`N`) votes that the target `TGT` received before the current vote.\n",
    "\n",
    "- `TXT_PROCESSED` — The text in the original dataset, processed so 1) it is entirely lower-case, 2) it does not contain non-alphanumeric characters, and 3) it does not contain words starting with “supp” or “opp” (since words such as \"support\" and \"oppose\"  are obvious give-away signals of the vote).\n",
    "\n",
    "### Interlude: Predicting edge signs with structural balance theory\n",
    "\n",
    "We can use structural balance theory to predict edge signs. \n",
    "\n",
    "Consider an edge whose sign we do not know, as well as the fractions `PP`, `NN`, and `PN` associated with the edge, as defined above. \n",
    "\n",
    "According to structural balance theory, if `PP` + `NN` $\\geq$ `PN`, the vote is predicted to be positive, as this will create more balanced triangles in the graph. Otherwise, it is predicted to be negative. \n",
    "\n",
    "According to the weak structural balance theory, if `PP` $\\geq$ `PN`, the vote is predicted to be positive, as this will create more balanced triangles in the graph. Otherwise, it is predicted to be negative. \n",
    "\n",
    "Note that in both cases we use “$\\geq$” rather than “<”, i.e., when both sides of the equation are equal, we break ties in favor of positive edges. We do so because there are more positive edges in the graph."
   ]
  },
  {
   "cell_type": "markdown",
   "id": "e2f20eed",
   "metadata": {},
   "source": [
    "### Task 3: Predict it!\n",
    "\n",
    "In the final part of the exam, you will leverage your machine learning and regression skills.\n",
    "\n",
    "**3.1** Merge the new dataset with the original dataframe from task **1** using the columns `SRC` and `TGT`. You may drop the old `TXT` column if you want to. \n"
   ]
  },
  {
   "cell_type": "code",
   "execution_count": 411,
   "id": "a2272113",
   "metadata": {
    "ExecuteTime": {
     "end_time": "2024-01-12T18:35:25.925050119Z",
     "start_time": "2024-01-12T18:35:25.417341031Z"
    }
   },
   "outputs": [
    {
     "data": {
      "text/plain": "    SRC   TGT  VOT  YEA_x    SRC_TGT  YEA_y  PP  NN  PN   N  P  \\\n0  5943  9966   -1   2012  5943-9966   2012   2   0   4  12  0   \n1  9153  9966   -1   2012  9153-9966   2012   2   1   3  11  0   \n2  4189  9966   -1   2012  4189-9966   2012   0   0   2  10  0   \n3  3750  9966   -1   2012  3750-9966   2012   0   0   0   9  0   \n4  4225  9966   -1   2012  4225-9966   2012   0   0   1   8  0   \n\n                                                                                                                                                                                                                                                                                                                                                                                                                                                                                           TXT_PROCESSED  \n0                                                                                                                                                                                                                                                                                                                                                                                                                                                                                                         \n1                                                                                                                                                                                                                                                                                                                                                                            this joke really isn t funny not even if you ve been drinking we have enough things wasting our time as it is without this   \n2                                                                                                                                                                                                                                                                                                                                                                                                                                                                         as per nomination and answers   \n3                                                                                                                                                                                                                                                 and speeedy close this as wp snow as it s clearly not a genuine request i find this insulting to everyone who s had to go through the pain of rfa with the best of intentions whether successful or not wp point rfa is not the place to make a point   \n4   per nomination and answers i am particularly skeptical about darkness shines stance towards those who wish to rewrite history he has strong points of view on contetious historical and political topics himself and for edits such as http en wikipedia org w index php title talk 3apakistan diff 472279261 oldid 471970897 this one full discussion by now talk pakistan archive 13 two women abused every hour in pakistan archived here he d have to start by blocking himself as a pov pusher   ",
      "text/html": "<div>\n<style scoped>\n    .dataframe tbody tr th:only-of-type {\n        vertical-align: middle;\n    }\n\n    .dataframe tbody tr th {\n        vertical-align: top;\n    }\n\n    .dataframe thead th {\n        text-align: right;\n    }\n</style>\n<table border=\"1\" class=\"dataframe\">\n  <thead>\n    <tr style=\"text-align: right;\">\n      <th></th>\n      <th>SRC</th>\n      <th>TGT</th>\n      <th>VOT</th>\n      <th>YEA_x</th>\n      <th>SRC_TGT</th>\n      <th>YEA_y</th>\n      <th>PP</th>\n      <th>NN</th>\n      <th>PN</th>\n      <th>N</th>\n      <th>P</th>\n      <th>TXT_PROCESSED</th>\n    </tr>\n  </thead>\n  <tbody>\n    <tr>\n      <th>0</th>\n      <td>5943</td>\n      <td>9966</td>\n      <td>-1</td>\n      <td>2012</td>\n      <td>5943-9966</td>\n      <td>2012</td>\n      <td>2</td>\n      <td>0</td>\n      <td>4</td>\n      <td>12</td>\n      <td>0</td>\n      <td></td>\n    </tr>\n    <tr>\n      <th>1</th>\n      <td>9153</td>\n      <td>9966</td>\n      <td>-1</td>\n      <td>2012</td>\n      <td>9153-9966</td>\n      <td>2012</td>\n      <td>2</td>\n      <td>1</td>\n      <td>3</td>\n      <td>11</td>\n      <td>0</td>\n      <td>this joke really isn t funny not even if you ve been drinking we have enough things wasting our time as it is without this</td>\n    </tr>\n    <tr>\n      <th>2</th>\n      <td>4189</td>\n      <td>9966</td>\n      <td>-1</td>\n      <td>2012</td>\n      <td>4189-9966</td>\n      <td>2012</td>\n      <td>0</td>\n      <td>0</td>\n      <td>2</td>\n      <td>10</td>\n      <td>0</td>\n      <td>as per nomination and answers</td>\n    </tr>\n    <tr>\n      <th>3</th>\n      <td>3750</td>\n      <td>9966</td>\n      <td>-1</td>\n      <td>2012</td>\n      <td>3750-9966</td>\n      <td>2012</td>\n      <td>0</td>\n      <td>0</td>\n      <td>0</td>\n      <td>9</td>\n      <td>0</td>\n      <td>and speeedy close this as wp snow as it s clearly not a genuine request i find this insulting to everyone who s had to go through the pain of rfa with the best of intentions whether successful or not wp point rfa is not the place to make a point</td>\n    </tr>\n    <tr>\n      <th>4</th>\n      <td>4225</td>\n      <td>9966</td>\n      <td>-1</td>\n      <td>2012</td>\n      <td>4225-9966</td>\n      <td>2012</td>\n      <td>0</td>\n      <td>0</td>\n      <td>1</td>\n      <td>8</td>\n      <td>0</td>\n      <td>per nomination and answers i am particularly skeptical about darkness shines stance towards those who wish to rewrite history he has strong points of view on contetious historical and political topics himself and for edits such as http en wikipedia org w index php title talk 3apakistan diff 472279261 oldid 471970897 this one full discussion by now talk pakistan archive 13 two women abused every hour in pakistan archived here he d have to start by blocking himself as a pov pusher</td>\n    </tr>\n  </tbody>\n</table>\n</div>"
     },
     "metadata": {},
     "output_type": "display_data"
    }
   ],
   "source": [
    "# 3.1\n",
    "wiki_RfA_extra = pd.read_csv('wiki-RfA_extra.csv.gz', compression='gzip')\n",
    "wiki_RfA_merged = wiki_RfA.merge(wiki_RfA_extra, left_on=['SRC', 'TGT'], right_on=['SRC', 'TGT'])\n",
    "\n",
    "display(wiki_RfA_merged.head())"
   ]
  },
  {
   "cell_type": "markdown",
   "id": "c5d42a2d",
   "metadata": {},
   "source": [
    "**3.2**  Create the following two rule-based classifiers, and for each, estimate its area under the ROC curve (a.k.a. “AUC/ROC”) on the entire dataset:\n",
    "\n",
    "- **A)** a classifier inspired by structural balance theory. The classifier should predict a positive vote if  `PP` + `NN` $\\geq$ `PN`, and a negative vote otherwise.\n",
    "- **B)** a classifier inspired by weak structural balance theory. The classifier should predict a positive vote if `PP`  $\\geq$ `PN` and a negative vote otherwise."
   ]
  },
  {
   "cell_type": "code",
   "execution_count": 431,
   "id": "44643421",
   "metadata": {
    "ExecuteTime": {
     "end_time": "2024-01-12T18:56:58.211238268Z",
     "start_time": "2024-01-12T18:56:55.140052830Z"
    }
   },
   "outputs": [
    {
     "data": {
      "text/plain": "<Figure size 1000x500 with 2 Axes>",
      "image/png": "[encoded data removed]"
     },
     "metadata": {},
     "output_type": "display_data"
    }
   ],
   "source": [
    "# 3.2\n",
    "from sklearn.metrics import roc_curve, auc, RocCurveDisplay\n",
    "\n",
    "wiki_RfA_classified = wiki_RfA_merged.copy()\n",
    "wiki_RfA_classified['structural_classification'] = wiki_RfA_merged.apply(lambda row: row['PP'] + row['NN'] >= row['PN'], axis=1)\n",
    "wiki_RfA_classified['weak_structural_classification'] = wiki_RfA_merged.apply(lambda row: row['PP'] >= row['PN'], axis=1)\n",
    "wiki_RfA_classified['VOT'] = wiki_RfA_classified['VOT'] == 1\n",
    "\n",
    "fpr_str, tpr_str, _ = roc_curve(wiki_RfA_classified['VOT'], wiki_RfA_classified['structural_classification'])\n",
    "roc_auc_str = auc(fpr_str, tpr_str)\n",
    "display_str = RocCurveDisplay(fpr=fpr_str, tpr=tpr_str, roc_auc=roc_auc_str)\n",
    "\n",
    "fpr_weak_str, tpr_weak_str, thr = roc_curve(wiki_RfA_classified['VOT'], wiki_RfA_classified['weak_structural_classification'])\n",
    "roc_auc_weak_str = auc(fpr_weak_str, tpr_weak_str)\n",
    "display_weak_str = RocCurveDisplay(fpr=fpr_weak_str, tpr=tpr_weak_str, roc_auc=roc_auc_weak_str)\n",
    "\n",
    "_, axs = plt.subplots(1, 2, figsize=(10, 5))\n",
    "display_str.plot(ax=axs[0])\n",
    "display_weak_str.plot(ax=axs[1])\n",
    "plt.show()"
   ]
  },
  {
   "cell_type": "markdown",
   "id": "0161ec09",
   "metadata": {},
   "source": [
    "**3.3** To determine if the differences in the classifiers from task **3.2** occur solely due to chance, follow the following bootstrap procedure, using 200 iterations:\n",
    "\n",
    "- **A)** Randomly sample the entire dataset (i.e., votes from the dataframe constructed in task **3.1**) with replacement;\n",
    "- **B)** Compute the difference of the AUC/ROC for the two classifiers on the entire dataset.\n",
    "\n",
    "Then use the distribution of AUC/ROC differences (one difference per bootstrap iteration) to estimate the 95% confidence interval for the AUC/ROC difference."
   ]
  },
  {
   "cell_type": "code",
   "execution_count": 442,
   "id": "817ee28f",
   "metadata": {
    "ExecuteTime": {
     "end_time": "2024-01-12T19:26:14.475395341Z",
     "start_time": "2024-01-12T19:26:08.385552344Z"
    }
   },
   "outputs": [],
   "source": [
    "# 3.3 \n",
    "\n",
    "np.random.seed(42)\n",
    "auc_diff = []\n",
    "\n",
    "auc_A = []\n",
    "auc_B = []\n",
    "\n",
    "for i in range(200):\n",
    "    sample = wiki_RfA_classified.sample(len(wiki_RfA_classified), replace=True)\n",
    "    fpr_str, tpr_str, _ = roc_curve(sample['VOT'], sample['structural_classification'])\n",
    "    roc_auc_str = auc(fpr_str, tpr_str)\n",
    "    \n",
    "    fpr_weak_str, tpr_weak_str, thr = roc_curve(sample['VOT'], sample['weak_structural_classification'])\n",
    "    roc_auc_weak_str = auc(fpr_weak_str, tpr_weak_str)\n",
    "    \n",
    "    auc_A.append(roc_auc_str)\n",
    "    auc_B.append(roc_auc_weak_str)\n",
    "    auc_diff.append(roc_auc_str - roc_auc_weak_str)\n",
    "    "
   ]
  },
  {
   "cell_type": "code",
   "outputs": [
    {
     "data": {
      "text/plain": "array([-0.00302618, -0.0021996 ])"
     },
     "execution_count": 441,
     "metadata": {},
     "output_type": "execute_result"
    },
    {
     "data": {
      "text/plain": "<Figure size 640x480 with 1 Axes>",
      "image/png": "[encoded data removed]"
     },
     "metadata": {},
     "output_type": "display_data"
    }
   ],
   "source": [
    "sns.histplot(auc_diff)\n",
    "np.percentile(auc_diff, q =[2.5, 97.5])"
   ],
   "metadata": {
    "collapsed": false,
    "ExecuteTime": {
     "end_time": "2024-01-12T19:14:19.606878570Z",
     "start_time": "2024-01-12T19:14:19.459346922Z"
    }
   },
   "id": "eaf71fcdf14e1aa7",
   "execution_count": 441
  },
  {
   "cell_type": "code",
   "outputs": [
    {
     "data": {
      "text/plain": "TtestResult(statistic=-37.61133208407908, pvalue=4.258985945540555e-133, df=398.0)"
     },
     "execution_count": 444,
     "metadata": {},
     "output_type": "execute_result"
    }
   ],
   "source": [
    "from scipy.stats import ttest_ind\n",
    "ttest_ind(auc_A, auc_B)"
   ],
   "metadata": {
    "collapsed": false,
    "ExecuteTime": {
     "end_time": "2024-01-12T19:28:02.635442642Z",
     "start_time": "2024-01-12T19:28:02.578125144Z"
    }
   },
   "id": "ac87aad544a9ab1e",
   "execution_count": 444
  },
  {
   "cell_type": "markdown",
   "id": "4d0e1569",
   "metadata": {},
   "source": [
    "**3.4 ** **/Discuss:**/ According to the results in tasks **3.2** and **3.3**, which theory better predicts actual edge signs, structural balance theory or the weak structural balance theory? \n"
   ]
  },
  {
   "cell_type": "markdown",
   "id": "94b39801",
   "metadata": {},
   "source": [
    "**A3.4** *YOUR ANSWER HERE*"
   ]
  },
  {
   "cell_type": "markdown",
   "id": "28d37dc1",
   "metadata": {},
   "source": [
    "**3.5** How accurately can we predict the vote with more sophisticated features and algorithms?\n",
    "\n",
    "- Create a TF-IDF representation of the text of each vote  using `sklearn`'s vectorizer ([`sklearn.feature_extraction.text.TfidfVectorizer`](https://scikit-learn.org/stable/modules/generated/sklearn.feature_extraction.text.TfidfVectorizer.html)) with the parameters `max_features=150` and `stop_words='english'`.\n",
    "- Split the  dataset into training and test sets using sklearn [`sklearn.model_selection.train_test_split`](https://scikit-learn.org/stable/modules/generated/sklearn.model_selection.train_test_split.html) using parameters `test_size=0.1` and  `random_state=42`.\n",
    "\n",
    "- Then, train two logistic regression models ([`sklearn.linear_model.SGDClassifier`](https://scikit-learn.org/stable/modules/generated/sklearn.linear_model.SGDClassifier.html)) using parameters `loss='log_loss'` and `max_iter=2000` considering:\n",
    "\n",
    "    - **1)** the TF-IDF feature vector\n",
    "\n",
    "    - **2)** the TF-IDF feature vector and the features `PP`, `NN`, `PN`, `P`, and `N` related to the graph.\n",
    "\n",
    "- Last, report the AUC/ROC of each model in the test set."
   ]
  },
  {
   "cell_type": "code",
   "execution_count": 453,
   "id": "764a00f3",
   "metadata": {
    "ExecuteTime": {
     "end_time": "2024-01-12T19:44:32.220343603Z",
     "start_time": "2024-01-12T19:44:29.846826994Z"
    }
   },
   "outputs": [],
   "source": [
    "# 3.5\n",
    "from sklearn.feature_extraction.text import TfidfVectorizer\n",
    "\n",
    "vectorizer = TfidfVectorizer(max_features=150, stop_words='english')\n",
    "X = vectorizer.fit_transform(wiki_RfA_classified.TXT_PROCESSED.fillna(''))"
   ]
  },
  {
   "cell_type": "code",
   "outputs": [],
   "source": [
    "from sklearn.model_selection import train_test_split\n",
    "\n",
    "X_train, X_test, y_train, y_test = train_test_split(X, wiki_RfA_classified.VOT, test_size=0.1, random_state=42)"
   ],
   "metadata": {
    "collapsed": false,
    "ExecuteTime": {
     "end_time": "2024-01-12T19:44:37.630241166Z",
     "start_time": "2024-01-12T19:44:37.594018475Z"
    }
   },
   "id": "4dd979eca56e66a6",
   "execution_count": 454
  },
  {
   "cell_type": "code",
   "outputs": [
    {
     "data": {
      "text/plain": "0.7011772644955998"
     },
     "execution_count": 469,
     "metadata": {},
     "output_type": "execute_result"
    }
   ],
   "source": [
    "# First model\n",
    "from sklearn.linear_model import SGDClassifier\n",
    "from sklearn.metrics import roc_auc_score\n",
    "\n",
    "clf = SGDClassifier(loss='log_loss', max_iter=2000)\n",
    "clf.fit(X_train, y_train)\n",
    "\n",
    "roc_auc_score(y_test, clf.predict(X_test))"
   ],
   "metadata": {
    "collapsed": false,
    "ExecuteTime": {
     "end_time": "2024-01-12T19:58:38.728771139Z",
     "start_time": "2024-01-12T19:58:38.582412205Z"
    }
   },
   "id": "878b06dd2e9a25d8",
   "execution_count": 469
  },
  {
   "cell_type": "code",
   "outputs": [
    {
     "data": {
      "text/plain": "0.7504606492641994"
     },
     "execution_count": 478,
     "metadata": {},
     "output_type": "execute_result"
    }
   ],
   "source": [
    "X_train2 = pd.DataFrame(X.toarray())\n",
    "X_train2.columns = vectorizer.get_feature_names_out()\n",
    "X_2 = X_train2.join(wiki_RfA_classified[['PP', 'PN', 'NN', 'P', 'N']])\n",
    "\n",
    "X_train_2, X_test_2, y_train_2, y_test_2 = train_test_split(X_2, wiki_RfA_classified.VOT, test_size=0.1, random_state=42)\n",
    "\n",
    "clf = SGDClassifier(loss='log_loss', max_iter=2000)\n",
    "clf.fit(X_train_2, y_train_2)\n",
    "\n",
    "roc_auc_score(y_test_2, clf.predict(X_test_2))"
   ],
   "metadata": {
    "collapsed": false,
    "ExecuteTime": {
     "end_time": "2024-01-12T20:06:13.167560262Z",
     "start_time": "2024-01-12T20:06:02.611073637Z"
    }
   },
   "id": "5566aa9a36ce5031",
   "execution_count": 478
  },
  {
   "cell_type": "markdown",
   "id": "898cbdd1",
   "metadata": {},
   "source": [
    "**3.6** **/Discuss:**/  According to the results in task **3.5**, does information from the graph help in the task of predicting the vote even when using the text?  What kind of subsequent analysis would make you trust that the results are not obtained simply by chance? (No need to actually perform that subsequent analysis here.) "
   ]
  },
  {
   "cell_type": "markdown",
   "id": "6b6767ad",
   "metadata": {},
   "source": [
    "**A3.6** *YOUR ANSWER HERE*"
   ]
  },
  {
   "cell_type": "markdown",
   "id": "7f51071d",
   "metadata": {},
   "source": [
    "**3.7** Putting on your observational studies hat, run two logistic regressions using `statsmodels`.\n",
    "- In the first regression, the vote is the outcome, and `PP`, `NN` and `PN` are the predictors.\n",
    "- In the second regression, the vote is the outcome, and `PP`, `NN`, `PN`, and `N` are the predictors."
   ]
  },
  {
   "cell_type": "code",
   "outputs": [],
   "source": [
    "wiki_RfA_classified['VOT'] = wiki_RfA_classified['VOT'].astype(int)"
   ],
   "metadata": {
    "collapsed": false,
    "ExecuteTime": {
     "end_time": "2024-01-12T20:17:33.314353433Z",
     "start_time": "2024-01-12T20:17:33.283413253Z"
    }
   },
   "id": "fab748e26228b27",
   "execution_count": 484
  },
  {
   "cell_type": "code",
   "execution_count": 489,
   "id": "9f8df411",
   "metadata": {
    "ExecuteTime": {
     "end_time": "2024-01-12T20:18:48.062705966Z",
     "start_time": "2024-01-12T20:18:45.180712296Z"
    }
   },
   "outputs": [
    {
     "name": "stdout",
     "output_type": "stream",
     "text": [
      "Optimization terminated successfully.\n",
      "         Current function value: 0.514594\n",
      "         Iterations 7\n",
      "Optimization terminated successfully.\n",
      "         Current function value: 0.487994\n",
      "         Iterations 7\n",
      "                           Logit Regression Results                           \n",
      "==============================================================================\n",
      "Dep. Variable:                    VOT   No. Observations:               167003\n",
      "Model:                          Logit   Df Residuals:                   166999\n",
      "Method:                           MLE   Df Model:                            3\n",
      "Date:                Fri, 12 Jan 2024   Pseudo R-squ.:                 0.01804\n",
      "Time:                        21:18:47   Log-Likelihood:                -85939.\n",
      "converged:                       True   LL-Null:                       -87517.\n",
      "Covariance Type:            nonrobust   LLR p-value:                     0.000\n",
      "==============================================================================\n",
      "                 coef    std err          z      P>|z|      [0.025      0.975]\n",
      "------------------------------------------------------------------------------\n",
      "Intercept      1.2781      0.006    206.255      0.000       1.266       1.290\n",
      "PP             0.2493      0.007     34.272      0.000       0.235       0.264\n",
      "NN            -0.6765      0.040    -16.946      0.000      -0.755      -0.598\n",
      "PN            -0.5509      0.014    -40.304      0.000      -0.578      -0.524\n",
      "==============================================================================\n",
      "                           Logit Regression Results                           \n",
      "==============================================================================\n",
      "Dep. Variable:                    VOT   No. Observations:               167003\n",
      "Model:                          Logit   Df Residuals:                   166998\n",
      "Method:                           MLE   Df Model:                            4\n",
      "Date:                Fri, 12 Jan 2024   Pseudo R-squ.:                 0.06880\n",
      "Time:                        21:18:48   Log-Likelihood:                -81496.\n",
      "converged:                       True   LL-Null:                       -87517.\n",
      "Covariance Type:            nonrobust   LLR p-value:                     0.000\n",
      "==============================================================================\n",
      "                 coef    std err          z      P>|z|      [0.025      0.975]\n",
      "------------------------------------------------------------------------------\n",
      "Intercept      1.6227      0.008    212.945      0.000       1.608       1.638\n",
      "PP             0.2535      0.008     33.344      0.000       0.239       0.268\n",
      "NN            -0.5466      0.040    -13.631      0.000      -0.625      -0.468\n",
      "PN            -0.4561      0.014    -33.013      0.000      -0.483      -0.429\n",
      "N             -0.0438      0.000    -89.263      0.000      -0.045      -0.043\n",
      "==============================================================================\n"
     ]
    }
   ],
   "source": [
    "# 3.7\n",
    "import statsmodels.formula.api as smf\n",
    "\n",
    "mod1 = smf.logit(formula='VOT ~ PP + NN + PN', data=wiki_RfA_classified)\n",
    "res1 = mod1.fit()\n",
    "\n",
    "mod2 = smf.logit(formula='VOT ~ PP + NN + PN + N', data=wiki_RfA_classified)\n",
    "res2 = mod2.fit()\n",
    "\n",
    "print(res1.summary())\n",
    "print(res2.summary())"
   ]
  },
  {
   "cell_type": "markdown",
   "id": "db15d090",
   "metadata": {},
   "source": [
    "**3.8** **/Discuss:**/   Explain what the coefficient associated with `PP` means in the first regression. Is it in accordance with structural balance theory?"
   ]
  },
  {
   "cell_type": "markdown",
   "id": "48845787",
   "metadata": {},
   "source": [
    "**A3.8** *YOUR ANSWER HERE*"
   ]
  },
  {
   "cell_type": "markdown",
   "id": "49752dbb",
   "metadata": {},
   "source": [
    "**3.9** **/Discuss:**/   Compare the coefficients associated with `PN` and `NN` in the first vs. the second regression. Present a reason that may explain this difference."
   ]
  },
  {
   "cell_type": "markdown",
   "id": "8ab7612b",
   "metadata": {},
   "source": [
    "**A3.9**  *YOUR ANSWER HERE*"
   ]
  },
  {
   "cell_type": "markdown",
   "id": "207c9147",
   "metadata": {},
   "source": [
    "---"
   ]
  }
 ],
 "metadata": {
  "kernelspec": {
   "name": "python3",
   "language": "python",
   "display_name": "Python 3 (ipykernel)"
  },
  "language_info": {
   "codemirror_mode": {
    "name": "ipython",
    "version": 3
   },
   "file_extension": ".py",
   "mimetype": "text/x-python",
   "name": "python",
   "nbconvert_exporter": "python",
   "pygments_lexer": "ipython3",
   "version": "3.10.4"
  }
 },
 "nbformat": 4,
 "nbformat_minor": 5
}
